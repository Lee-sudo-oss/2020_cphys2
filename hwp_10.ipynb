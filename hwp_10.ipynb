{
  "nbformat": 4,
  "nbformat_minor": 0,
  "metadata": {
    "colab": {
      "name": "hwp.10",
      "provenance": []
    },
    "kernelspec": {
      "name": "python3",
      "display_name": "Python 3"
    }
  },
  "cells": [
    {
      "cell_type": "code",
      "metadata": {
        "colab": {
          "base_uri": "https://localhost:8080/"
        },
        "id": "eqSdPRe73aqd",
        "outputId": "d23d11ce-6518-47ba-ddd5-dd93717aadae"
      },
      "source": [
        "import numpy as np\n",
        "from tensorflow import keras\n",
        "from keras import models \n",
        "from keras import layers\n",
        "import matplotlib.pyplot as plt\n",
        "\n",
        "from keras.datasets import imdb\n",
        "# https://www.imdb.com/\n",
        "(X, y_train), (X_test, y_test) = imdb.load_data(num_words=10000)"
      ],
      "execution_count": 1,
      "outputs": [
        {
          "output_type": "stream",
          "text": [
            "Downloading data from https://storage.googleapis.com/tensorflow/tf-keras-datasets/imdb.npz\n",
            "17465344/17464789 [==============================] - 0s 0us/step\n"
          ],
          "name": "stdout"
        }
      ]
    },
    {
      "cell_type": "code",
      "metadata": {
        "id": "prfzItv33dlE"
      },
      "source": [
        "# text to vector\n",
        "def vect(seq, dim=10000):\n",
        "    x=np.zeros((len(seq),dim))\n",
        "    for n, i in enumerate(seq):\n",
        "        x[n, i] = 1\n",
        "    return x\n",
        "\n",
        "X_train=vect(X)\n",
        "X_test=vect(X_test)"
      ],
      "execution_count": 2,
      "outputs": []
    },
    {
      "cell_type": "code",
      "metadata": {
        "colab": {
          "base_uri": "https://localhost:8080/"
        },
        "id": "CEkOV7bc4U_J",
        "outputId": "8961cfe9-fd90-4a58-b450-e6853ff4a635"
      },
      "source": [
        "X_train[0]"
      ],
      "execution_count": 3,
      "outputs": [
        {
          "output_type": "execute_result",
          "data": {
            "text/plain": [
              "array([0., 1., 1., ..., 0., 0., 0.])"
            ]
          },
          "metadata": {
            "tags": []
          },
          "execution_count": 3
        }
      ]
    },
    {
      "cell_type": "code",
      "metadata": {
        "colab": {
          "base_uri": "https://localhost:8080/"
        },
        "id": "AAXgs6ao4WYC",
        "outputId": "9dad616a-7c22-4e4e-94a4-c78f04842dc5"
      },
      "source": [
        "net = models.Sequential()\n",
        "net.add(layers.Dense(16, activation='relu', input_shape=(10000,)))\n",
        "net.add(layers.Dropout(0.5))\n",
        "net.add(layers.Dense(16, activation='relu'))\n",
        "net.add(layers.Dropout(0.5))\n",
        "net.add(layers.Dense(1, activation='sigmoid'))\n",
        "net.compile(optimizer='nadam', loss='binary_crossentropy', metrics = ['acc'])\n",
        "\n",
        "X_val = X_train[:10000]\n",
        "partial_X_train = X_train[10000:]\n",
        "\n",
        "y_val = y_train[:10000]\n",
        "partial_y_train = y_train[10000:]\n",
        "\n",
        "val = net.fit(partial_X_train, partial_y_train, epochs=5, batch_size=128, validation_data=(X_val, y_val))"
      ],
      "execution_count": 4,
      "outputs": [
        {
          "output_type": "stream",
          "text": [
            "Epoch 1/5\n",
            "118/118 [==============================] - 2s 13ms/step - loss: 0.5745 - acc: 0.7023 - val_loss: 0.3780 - val_acc: 0.8730\n",
            "Epoch 2/5\n",
            "118/118 [==============================] - 1s 11ms/step - loss: 0.3689 - acc: 0.8553 - val_loss: 0.2879 - val_acc: 0.8854\n",
            "Epoch 3/5\n",
            "118/118 [==============================] - 1s 11ms/step - loss: 0.2794 - acc: 0.8941 - val_loss: 0.2756 - val_acc: 0.8877\n",
            "Epoch 4/5\n",
            "118/118 [==============================] - 1s 10ms/step - loss: 0.2334 - acc: 0.9187 - val_loss: 0.2853 - val_acc: 0.8886\n",
            "Epoch 5/5\n",
            "118/118 [==============================] - 1s 11ms/step - loss: 0.1937 - acc: 0.9330 - val_loss: 0.3026 - val_acc: 0.8873\n"
          ],
          "name": "stdout"
        }
      ]
    },
    {
      "cell_type": "code",
      "metadata": {
        "colab": {
          "base_uri": "https://localhost:8080/",
          "height": 282
        },
        "id": "_uM1-J314ZXC",
        "outputId": "e3189960-b657-4a1d-b41d-eff07d502a25"
      },
      "source": [
        "val_dict = val.history\n",
        "loss = val_dict['loss']\n",
        "val_loss = val_dict['val_loss']\n",
        "x = np.arange(0,len(loss))\n",
        "\n",
        "plt.plot(x,loss,'-')\n",
        "plt.plot(x,val_loss,'o')"
      ],
      "execution_count": 5,
      "outputs": [
        {
          "output_type": "execute_result",
          "data": {
            "text/plain": [
              "[<matplotlib.lines.Line2D at 0x7f073ebe75c0>]"
            ]
          },
          "metadata": {
            "tags": []
          },
          "execution_count": 5
        },
        {
          "output_type": "display_data",
          "data": {
            "image/png": "[encoded data removed]",
            "text/plain": [
              "<Figure size 432x288 with 1 Axes>"
            ]
          },
          "metadata": {
            "tags": [],
            "needs_background": "light"
          }
        }
      ]
    },
    {
      "cell_type": "code",
      "metadata": {
        "colab": {
          "base_uri": "https://localhost:8080/"
        },
        "id": "cFvJit1X4bgw",
        "outputId": "6c89c83b-8378-441e-cee2-b5f302f45a0d"
      },
      "source": [
        "test_loss, test_acc = net.evaluate(X_test,y_test)"
      ],
      "execution_count": 6,
      "outputs": [
        {
          "output_type": "stream",
          "text": [
            "782/782 [==============================] - 1s 1ms/step - loss: 0.3205 - acc: 0.8782\n"
          ],
          "name": "stdout"
        }
      ]
    },
    {
      "cell_type": "code",
      "metadata": {
        "id": "4OnmVWeZ4dgk"
      },
      "source": [
        ""
      ],
      "execution_count": null,
      "outputs": []
    },
    {
      "cell_type": "markdown",
      "metadata": {
        "id": "gxoVbK8w4ikh"
      },
      "source": [
        "## IMDB Classification using simple RNN"
      ]
    },
    {
      "cell_type": "code",
      "metadata": {
        "id": "wnWwaA-F4kWW"
      },
      "source": [
        "from keras.preprocessing import sequence\n",
        "\n",
        "max_words=10000 \n",
        "(X_train, y_train), (X_test, y_test) = imdb.load_data(num_words=max_words)\n",
        "\n",
        "maxlen = 100 # sequence length\n",
        "X_train = sequence.pad_sequences(X_train, maxlen=maxlen)\n",
        "X_test = sequence.pad_sequences(X_test, maxlen=maxlen)"
      ],
      "execution_count": 7,
      "outputs": []
    },
    {
      "cell_type": "code",
      "metadata": {
        "colab": {
          "base_uri": "https://localhost:8080/"
        },
        "id": "9kjtj7aw4nDv",
        "outputId": "4262f91a-a24f-4169-e2c4-61c98683a919"
      },
      "source": [
        "X_train[0]"
      ],
      "execution_count": 8,
      "outputs": [
        {
          "output_type": "execute_result",
          "data": {
            "text/plain": [
              "array([1415,   33,    6,   22,   12,  215,   28,   77,   52,    5,   14,\n",
              "        407,   16,   82,    2,    8,    4,  107,  117, 5952,   15,  256,\n",
              "          4,    2,    7, 3766,    5,  723,   36,   71,   43,  530,  476,\n",
              "         26,  400,  317,   46,    7,    4,    2, 1029,   13,  104,   88,\n",
              "          4,  381,   15,  297,   98,   32, 2071,   56,   26,  141,    6,\n",
              "        194, 7486,   18,    4,  226,   22,   21,  134,  476,   26,  480,\n",
              "          5,  144,   30, 5535,   18,   51,   36,   28,  224,   92,   25,\n",
              "        104,    4,  226,   65,   16,   38, 1334,   88,   12,   16,  283,\n",
              "          5,   16, 4472,  113,  103,   32,   15,   16, 5345,   19,  178,\n",
              "         32], dtype=int32)"
            ]
          },
          "metadata": {
            "tags": []
          },
          "execution_count": 8
        }
      ]
    },
    {
      "cell_type": "code",
      "metadata": {
        "id": "6m90qDoV4oiO"
      },
      "source": [
        "rnn = models.Sequential()\n",
        "rnn.add(layers.Embedding(max_words, 16)) # 각각의 단어를 n=16 차원 공간에 올리기\n",
        "rnn.add(layers.SimpleRNN(32,return_sequences='True')) \n",
        "rnn.add(layers.Dropout(0.2))\n",
        "rnn.add(layers.SimpleRNN(16, activation = 'linear', input_shape= (100,1), return_sequences= False))\n",
        "\n",
        "# 다층 RNN를 하기 위해 return_sequences = True로 설정"
      ],
      "execution_count": 19,
      "outputs": []
    },
    {
      "cell_type": "code",
      "metadata": {
        "colab": {
          "base_uri": "https://localhost:8080/"
        },
        "id": "iWvgNVE74qpI",
        "outputId": "2e264eca-2086-49d0-f8a3-083cecce44ae"
      },
      "source": [
        "X_train.shape, y_train.shape"
      ],
      "execution_count": 20,
      "outputs": [
        {
          "output_type": "execute_result",
          "data": {
            "text/plain": [
              "((25000, 100), (25000,))"
            ]
          },
          "metadata": {
            "tags": []
          },
          "execution_count": 20
        }
      ]
    },
    {
      "cell_type": "code",
      "metadata": {
        "id": "bln3EU5k5rLx"
      },
      "source": [
        "rnn.add(layers.Dense(1))\n",
        "rnn.compile(optimizer='nadam', loss='mse', metrics=['acc'])"
      ],
      "execution_count": 21,
      "outputs": []
    },
    {
      "cell_type": "code",
      "metadata": {
        "colab": {
          "base_uri": "https://localhost:8080/"
        },
        "id": "PnDx-Egs578i",
        "outputId": "4651e1ab-1810-4b7c-8cc1-9f0034176c8b"
      },
      "source": [
        "rnn.summary()"
      ],
      "execution_count": 22,
      "outputs": [
        {
          "output_type": "stream",
          "text": [
            "Model: \"sequential_3\"\n",
            "_________________________________________________________________\n",
            "Layer (type)                 Output Shape              Param #   \n",
            "=================================================================\n",
            "embedding_2 (Embedding)      (None, None, 16)          160000    \n",
            "_________________________________________________________________\n",
            "simple_rnn_2 (SimpleRNN)     (None, None, 32)          1568      \n",
            "_________________________________________________________________\n",
            "dropout_3 (Dropout)          (None, None, 32)          0         \n",
            "_________________________________________________________________\n",
            "simple_rnn_3 (SimpleRNN)     (None, 16)                784       \n",
            "_________________________________________________________________\n",
            "dense_4 (Dense)              (None, 1)                 17        \n",
            "=================================================================\n",
            "Total params: 162,369\n",
            "Trainable params: 162,369\n",
            "Non-trainable params: 0\n",
            "_________________________________________________________________\n"
          ],
          "name": "stdout"
        }
      ]
    },
    {
      "cell_type": "code",
      "metadata": {
        "colab": {
          "base_uri": "https://localhost:8080/"
        },
        "id": "bJxzvPA65-bB",
        "outputId": "afc43348-ab90-4790-93d2-c94d15a9a459"
      },
      "source": [
        "history = rnn.fit(X_train, y_train, epochs=50, validation_split=0.2)"
      ],
      "execution_count": 23,
      "outputs": [
        {
          "output_type": "stream",
          "text": [
            "Epoch 1/50\n",
            "625/625 [==============================] - 21s 33ms/step - loss: 0.2336 - acc: 0.6612 - val_loss: 0.1802 - val_acc: 0.7150\n",
            "Epoch 2/50\n",
            "625/625 [==============================] - 21s 33ms/step - loss: 0.1219 - acc: 0.8530 - val_loss: 0.1301 - val_acc: 0.8296\n",
            "Epoch 3/50\n",
            "625/625 [==============================] - 21s 33ms/step - loss: 0.0953 - acc: 0.9039 - val_loss: 0.1348 - val_acc: 0.8196\n",
            "Epoch 4/50\n",
            "625/625 [==============================] - 21s 34ms/step - loss: 0.0727 - acc: 0.9401 - val_loss: 0.1441 - val_acc: 0.8160\n",
            "Epoch 5/50\n",
            "625/625 [==============================] - 20s 33ms/step - loss: 0.0522 - acc: 0.9717 - val_loss: 0.1489 - val_acc: 0.8008\n",
            "Epoch 6/50\n",
            "625/625 [==============================] - 20s 33ms/step - loss: 0.0361 - acc: 0.9894 - val_loss: 0.1615 - val_acc: 0.7896\n",
            "Epoch 7/50\n",
            "625/625 [==============================] - 21s 33ms/step - loss: 0.0263 - acc: 0.9966 - val_loss: 0.1713 - val_acc: 0.7798\n",
            "Epoch 8/50\n",
            "625/625 [==============================] - 21s 34ms/step - loss: 0.0208 - acc: 0.9989 - val_loss: 0.1792 - val_acc: 0.7612\n",
            "Epoch 9/50\n",
            "625/625 [==============================] - 20s 33ms/step - loss: 0.0167 - acc: 0.9996 - val_loss: 0.1704 - val_acc: 0.7668\n",
            "Epoch 10/50\n",
            "625/625 [==============================] - 21s 34ms/step - loss: 0.0144 - acc: 0.9999 - val_loss: 0.1723 - val_acc: 0.7754\n",
            "Epoch 11/50\n",
            "625/625 [==============================] - 21s 33ms/step - loss: 0.0127 - acc: 0.9999 - val_loss: 0.1736 - val_acc: 0.7634\n",
            "Epoch 12/50\n",
            "625/625 [==============================] - 21s 33ms/step - loss: 0.0117 - acc: 1.0000 - val_loss: 0.1680 - val_acc: 0.7812\n",
            "Epoch 13/50\n",
            "625/625 [==============================] - 21s 34ms/step - loss: 0.0111 - acc: 1.0000 - val_loss: 0.1789 - val_acc: 0.7478\n",
            "Epoch 14/50\n",
            "625/625 [==============================] - 21s 33ms/step - loss: 0.0103 - acc: 1.0000 - val_loss: 0.1706 - val_acc: 0.7752\n",
            "Epoch 15/50\n",
            "625/625 [==============================] - 21s 33ms/step - loss: 0.0097 - acc: 1.0000 - val_loss: 0.1691 - val_acc: 0.7846\n",
            "Epoch 16/50\n",
            "625/625 [==============================] - 23s 37ms/step - loss: 0.0090 - acc: 1.0000 - val_loss: 0.1699 - val_acc: 0.7746\n",
            "Epoch 17/50\n",
            "625/625 [==============================] - 21s 33ms/step - loss: 0.0084 - acc: 1.0000 - val_loss: 0.1712 - val_acc: 0.7804\n",
            "Epoch 18/50\n",
            "625/625 [==============================] - 21s 33ms/step - loss: 0.0081 - acc: 1.0000 - val_loss: 0.1720 - val_acc: 0.7704\n",
            "Epoch 19/50\n",
            "625/625 [==============================] - 20s 33ms/step - loss: 0.0077 - acc: 1.0000 - val_loss: 0.1634 - val_acc: 0.7730\n",
            "Epoch 20/50\n",
            "625/625 [==============================] - 21s 33ms/step - loss: 0.0073 - acc: 1.0000 - val_loss: 0.1705 - val_acc: 0.7830\n",
            "Epoch 21/50\n",
            "625/625 [==============================] - 21s 33ms/step - loss: 0.0069 - acc: 1.0000 - val_loss: 0.1657 - val_acc: 0.7742\n",
            "Epoch 22/50\n",
            "625/625 [==============================] - 21s 33ms/step - loss: 0.0069 - acc: 1.0000 - val_loss: 0.1641 - val_acc: 0.7766\n",
            "Epoch 23/50\n",
            "625/625 [==============================] - 21s 33ms/step - loss: 0.0065 - acc: 1.0000 - val_loss: 0.1678 - val_acc: 0.7874\n",
            "Epoch 24/50\n",
            "625/625 [==============================] - 21s 33ms/step - loss: 0.0060 - acc: 1.0000 - val_loss: 0.1634 - val_acc: 0.7874\n",
            "Epoch 25/50\n",
            "625/625 [==============================] - 21s 33ms/step - loss: 0.0060 - acc: 1.0000 - val_loss: 0.1617 - val_acc: 0.7878\n",
            "Epoch 26/50\n",
            "625/625 [==============================] - 21s 34ms/step - loss: 0.0058 - acc: 1.0000 - val_loss: 0.1609 - val_acc: 0.7802\n",
            "Epoch 27/50\n",
            "625/625 [==============================] - 21s 33ms/step - loss: 0.0055 - acc: 1.0000 - val_loss: 0.1613 - val_acc: 0.7930\n",
            "Epoch 28/50\n",
            "625/625 [==============================] - 21s 33ms/step - loss: 0.0053 - acc: 1.0000 - val_loss: 0.1606 - val_acc: 0.7816\n",
            "Epoch 29/50\n",
            "625/625 [==============================] - 21s 33ms/step - loss: 0.0052 - acc: 1.0000 - val_loss: 0.1596 - val_acc: 0.7808\n",
            "Epoch 30/50\n",
            "625/625 [==============================] - 20s 33ms/step - loss: 0.0050 - acc: 1.0000 - val_loss: 0.1562 - val_acc: 0.7934\n",
            "Epoch 31/50\n",
            "625/625 [==============================] - 20s 33ms/step - loss: 0.0048 - acc: 1.0000 - val_loss: 0.1546 - val_acc: 0.7978\n",
            "Epoch 32/50\n",
            "625/625 [==============================] - 21s 34ms/step - loss: 0.0048 - acc: 1.0000 - val_loss: 0.1553 - val_acc: 0.7876\n",
            "Epoch 33/50\n",
            "625/625 [==============================] - 21s 33ms/step - loss: 0.0047 - acc: 1.0000 - val_loss: 0.1521 - val_acc: 0.7990\n",
            "Epoch 34/50\n",
            "625/625 [==============================] - 21s 34ms/step - loss: 0.0046 - acc: 1.0000 - val_loss: 0.1505 - val_acc: 0.7992\n",
            "Epoch 35/50\n",
            "625/625 [==============================] - 21s 33ms/step - loss: 0.0044 - acc: 1.0000 - val_loss: 0.1504 - val_acc: 0.7962\n",
            "Epoch 36/50\n",
            "625/625 [==============================] - 21s 34ms/step - loss: 0.0044 - acc: 1.0000 - val_loss: 0.1534 - val_acc: 0.7964\n",
            "Epoch 37/50\n",
            "625/625 [==============================] - 21s 34ms/step - loss: 0.0043 - acc: 1.0000 - val_loss: 0.1488 - val_acc: 0.8044\n",
            "Epoch 38/50\n",
            "625/625 [==============================] - 21s 33ms/step - loss: 0.0042 - acc: 1.0000 - val_loss: 0.1515 - val_acc: 0.8016\n",
            "Epoch 39/50\n",
            "625/625 [==============================] - 21s 33ms/step - loss: 0.0041 - acc: 1.0000 - val_loss: 0.1526 - val_acc: 0.7952\n",
            "Epoch 40/50\n",
            "625/625 [==============================] - 21s 33ms/step - loss: 0.0042 - acc: 1.0000 - val_loss: 0.1491 - val_acc: 0.8022\n",
            "Epoch 41/50\n",
            "625/625 [==============================] - 21s 33ms/step - loss: 0.0041 - acc: 1.0000 - val_loss: 0.1461 - val_acc: 0.8058\n",
            "Epoch 42/50\n",
            "625/625 [==============================] - 21s 33ms/step - loss: 0.0039 - acc: 1.0000 - val_loss: 0.1505 - val_acc: 0.8048\n",
            "Epoch 43/50\n",
            "625/625 [==============================] - 21s 33ms/step - loss: 0.0037 - acc: 1.0000 - val_loss: 0.1480 - val_acc: 0.8026\n",
            "Epoch 44/50\n",
            "625/625 [==============================] - 21s 33ms/step - loss: 0.0038 - acc: 1.0000 - val_loss: 0.1459 - val_acc: 0.8038\n",
            "Epoch 45/50\n",
            "625/625 [==============================] - 21s 33ms/step - loss: 0.0037 - acc: 1.0000 - val_loss: 0.1471 - val_acc: 0.8046\n",
            "Epoch 46/50\n",
            "625/625 [==============================] - 23s 36ms/step - loss: 0.0037 - acc: 1.0000 - val_loss: 0.1454 - val_acc: 0.8062\n",
            "Epoch 47/50\n",
            "625/625 [==============================] - 20s 32ms/step - loss: 0.0038 - acc: 1.0000 - val_loss: 0.1463 - val_acc: 0.8052\n",
            "Epoch 48/50\n",
            "625/625 [==============================] - 21s 33ms/step - loss: 0.0036 - acc: 1.0000 - val_loss: 0.1465 - val_acc: 0.8018\n",
            "Epoch 49/50\n",
            "625/625 [==============================] - 21s 33ms/step - loss: 0.0034 - acc: 1.0000 - val_loss: 0.1438 - val_acc: 0.8072\n",
            "Epoch 50/50\n",
            "625/625 [==============================] - 21s 33ms/step - loss: 0.0037 - acc: 1.0000 - val_loss: 0.1431 - val_acc: 0.8056\n"
          ],
          "name": "stdout"
        }
      ]
    },
    {
      "cell_type": "code",
      "metadata": {
        "colab": {
          "base_uri": "https://localhost:8080/",
          "height": 286
        },
        "id": "PAMtGz2l6KT1",
        "outputId": "958911f0-6359-4536-9127-e74d3e741b24"
      },
      "source": [
        "loss = history.history['loss']\n",
        "val= history.history['val_loss']\n",
        "plt.ylim(0,0.5)\n",
        "plt.plot(loss)\n",
        "plt.plot(val, 'o')"
      ],
      "execution_count": 25,
      "outputs": [
        {
          "output_type": "execute_result",
          "data": {
            "text/plain": [
              "[<matplotlib.lines.Line2D at 0x7f073a076d30>]"
            ]
          },
          "metadata": {
            "tags": []
          },
          "execution_count": 25
        },
        {
          "output_type": "display_data",
          "data": {
            "image/png": "[encoded data removed]",
            "text/plain": [
              "<Figure size 432x288 with 1 Axes>"
            ]
          },
          "metadata": {
            "tags": [],
            "needs_background": "light"
          }
        }
      ]
    },
    {
      "cell_type": "code",
      "metadata": {
        "colab": {
          "base_uri": "https://localhost:8080/"
        },
        "id": "orIILmXo-Hm0",
        "outputId": "346ca257-b530-42c0-899d-91fe2e89533f"
      },
      "source": [
        "import os\n",
        "import numpy as np\n",
        "import matplotlib.pyplot as plt\n",
        "from tensorflow import keras\n",
        "from keras import models\n",
        "from keras import layers\n",
        "zip_path = keras.utils.get_file(origin='https://storage.googleapis.com/tensorflow/tf-keras-datasets/jena_climate_2009_2016.csv.zip', fname= 'jena_climate_2009_2016.csv.zip', extract=True)\n",
        "csv_path, _ = os.path.splitext(zip_path)\n",
        "import pandas as pd\n",
        "df = pd.read_csv(csv_path)"
      ],
      "execution_count": 35,
      "outputs": [
        {
          "output_type": "stream",
          "text": [
            "Downloading data from https://storage.googleapis.com/tensorflow/tf-keras-datasets/jena_climate_2009_2016.csv.zip\n",
            "13574144/13568290 [==============================] - 0s 0us/step\n"
          ],
          "name": "stdout"
        }
      ]
    },
    {
      "cell_type": "code",
      "metadata": {
        "id": "fTffMspoFrB7"
      },
      "source": [
        "temp=df['T (degC)']"
      ],
      "execution_count": 36,
      "outputs": []
    },
    {
      "cell_type": "code",
      "metadata": {
        "id": "2VX3-yoxGlmi"
      },
      "source": [
        "temp=np.array(df['T (degC)'])"
      ],
      "execution_count": 39,
      "outputs": []
    },
    {
      "cell_type": "code",
      "metadata": {
        "colab": {
          "base_uri": "https://localhost:8080/"
        },
        "id": "_P5i28L4GuYI",
        "outputId": "e43eca4b-476c-4f1d-bb30-7a8fe968042d"
      },
      "source": [
        "y1 = rnn.predict(X_train).flatten()\n",
        "y2 = y_train\n",
        "np.mean(np.abs(y1-y2))*np.std(temp)"
      ],
      "execution_count": 40,
      "outputs": [
        {
          "output_type": "execute_result",
          "data": {
            "text/plain": [
              "0.7345903824815339"
            ]
          },
          "metadata": {
            "tags": []
          },
          "execution_count": 40
        }
      ]
    },
    {
      "cell_type": "code",
      "metadata": {
        "id": "LyngZ2t3HHwp"
      },
      "source": [
        ""
      ],
      "execution_count": null,
      "outputs": []
    }
  ]
}