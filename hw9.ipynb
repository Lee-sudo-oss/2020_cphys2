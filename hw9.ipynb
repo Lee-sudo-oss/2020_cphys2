{
  "nbformat": 4,
  "nbformat_minor": 0,
  "metadata": {
    "colab": {
      "name": "Untitled9.ipynb",
      "provenance": []
    },
    "kernelspec": {
      "name": "python3",
      "display_name": "Python 3"
    }
  },
  "cells": [
    {
      "cell_type": "code",
      "metadata": {
        "id": "JU_566a_Rrwb"
      },
      "source": [
        "from tensorflow import keras\n",
        "from keras import models \n",
        "from keras import layers\n",
        "import numpy as np\n",
        "import matplotlib.pyplot as plt\n",
        "from keras.utils import to_categorical\n",
        "from keras.datasets import fashion_mnist"
      ],
      "execution_count": 1,
      "outputs": []
    },
    {
      "cell_type": "code",
      "metadata": {
        "id": "O_DSKPp5RwkL",
        "outputId": "93539491-d5f4-40e8-af95-5d090ba8a130",
        "colab": {
          "base_uri": "https://localhost:8080/"
        }
      },
      "source": [
        "(X_train, y_train), (X_test, y_test) = fashion_mnist.load_data()\n",
        "y_train=to_categorical(y_train)\n",
        "y_test=to_categorical(y_test)\n",
        "\n",
        "# preprocessing\n",
        "X_train = X_train.reshape((60000, 28*28))\n",
        "X_train = X_train/255\n",
        "\n",
        "X_test = X_test.reshape((10000, 28*28))\n",
        "X_test = X_test/255\n",
        "\n",
        "net = models.Sequential()\n",
        "net.add(layers.Dense(512, activation='relu', input_shape=(28*28,))) \n",
        "net.add(layers.Dense(512, activation='relu')) \n",
        "net.add(layers.Dropout(0.5))\n",
        "net.add(layers.Dense(512, activation='relu')) \n",
        "net.add(layers.Dropout(0.5))\n",
        "net.add(layers.Dense(10, activation='softmax')) \n",
        "net.compile(optimizer='nadam',loss='categorical_crossentropy',metrics=['acc'])"
      ],
      "execution_count": 2,
      "outputs": [
        {
          "output_type": "stream",
          "text": [
            "Downloading data from https://storage.googleapis.com/tensorflow/tf-keras-datasets/train-labels-idx1-ubyte.gz\n",
            "32768/29515 [=================================] - 0s 0us/step\n",
            "Downloading data from https://storage.googleapis.com/tensorflow/tf-keras-datasets/train-images-idx3-ubyte.gz\n",
            "26427392/26421880 [==============================] - 1s 0us/step\n",
            "Downloading data from https://storage.googleapis.com/tensorflow/tf-keras-datasets/t10k-labels-idx1-ubyte.gz\n",
            "8192/5148 [===============================================] - 0s 0us/step\n",
            "Downloading data from https://storage.googleapis.com/tensorflow/tf-keras-datasets/t10k-images-idx3-ubyte.gz\n",
            "4423680/4422102 [==============================] - 0s 0us/step\n"
          ],
          "name": "stdout"
        }
      ]
    },
    {
      "cell_type": "code",
      "metadata": {
        "id": "qWpnwT1YRyTb"
      },
      "source": [
        "X_val = X_train[:10000]\n",
        "partial_X_train = X_train[10000:]\n",
        "\n",
        "y_val = y_train[:10000]\n",
        "partial_y_train = y_train[10000:]"
      ],
      "execution_count": 3,
      "outputs": []
    },
    {
      "cell_type": "code",
      "metadata": {
        "id": "VrsUTP5uR6ip",
        "outputId": "43eaeea2-8948-49b6-b05d-316110b72cfe",
        "colab": {
          "base_uri": "https://localhost:8080/"
        }
      },
      "source": [
        "val= net.fit(partial_X_train,partial_y_train,epochs=10, batch_size=64, validation_data=(X_val, y_val))"
      ],
      "execution_count": 4,
      "outputs": [
        {
          "output_type": "stream",
          "text": [
            "Epoch 1/10\n",
            "782/782 [==============================] - 21s 27ms/step - loss: 0.5594 - acc: 0.8009 - val_loss: 0.4784 - val_acc: 0.8285\n",
            "Epoch 2/10\n",
            "782/782 [==============================] - 21s 27ms/step - loss: 0.3937 - acc: 0.8579 - val_loss: 0.3815 - val_acc: 0.8591\n",
            "Epoch 3/10\n",
            "782/782 [==============================] - 21s 27ms/step - loss: 0.3540 - acc: 0.8713 - val_loss: 0.3413 - val_acc: 0.8740\n",
            "Epoch 4/10\n",
            "782/782 [==============================] - 21s 27ms/step - loss: 0.3302 - acc: 0.8800 - val_loss: 0.3574 - val_acc: 0.8671\n",
            "Epoch 5/10\n",
            "782/782 [==============================] - 21s 27ms/step - loss: 0.3102 - acc: 0.8873 - val_loss: 0.3492 - val_acc: 0.8753\n",
            "Epoch 6/10\n",
            "782/782 [==============================] - 21s 27ms/step - loss: 0.2975 - acc: 0.8912 - val_loss: 0.3387 - val_acc: 0.8782\n",
            "Epoch 7/10\n",
            "782/782 [==============================] - 21s 27ms/step - loss: 0.2842 - acc: 0.8941 - val_loss: 0.3508 - val_acc: 0.8709\n",
            "Epoch 8/10\n",
            "782/782 [==============================] - 21s 26ms/step - loss: 0.2755 - acc: 0.8990 - val_loss: 0.3232 - val_acc: 0.8826\n",
            "Epoch 9/10\n",
            "782/782 [==============================] - 21s 27ms/step - loss: 0.2691 - acc: 0.9004 - val_loss: 0.3219 - val_acc: 0.8870\n",
            "Epoch 10/10\n",
            "782/782 [==============================] - 21s 27ms/step - loss: 0.2587 - acc: 0.9045 - val_loss: 0.3386 - val_acc: 0.8844\n"
          ],
          "name": "stdout"
        }
      ]
    },
    {
      "cell_type": "code",
      "metadata": {
        "id": "EpbStyU6SBrI",
        "outputId": "04f23278-4317-427b-b05a-8900e52e9b07",
        "colab": {
          "base_uri": "https://localhost:8080/"
        }
      },
      "source": [
        "test_loss, test_acc = net.evaluate(X_test,y_test)"
      ],
      "execution_count": 5,
      "outputs": [
        {
          "output_type": "stream",
          "text": [
            "313/313 [==============================] - 1s 4ms/step - loss: 0.3654 - acc: 0.8757\n"
          ],
          "name": "stdout"
        }
      ]
    },
    {
      "cell_type": "code",
      "metadata": {
        "id": "zkWnAxDISDzK"
      },
      "source": [
        "X_train = X_train.reshape((60000,28,28,1))\n",
        "X_train = X_train/255\n",
        "X_test = X_test.reshape((10000,28,28,1))\n",
        "X_test = X_test/255\n",
        "batch_size = 64\n",
        "num_classes = 10\n",
        "epochs = 15\n",
        "model = models.Sequential()\n",
        "model.add(layers.Conv2D(32,(3,3), activation='relu', input_shape=(28,28,1)))\n",
        "model.add(layers.MaxPooling2D((2,2)))\n",
        "model.add(layers.Dropout(0.25))\n",
        "model.add(layers.Conv2D(64,(3,3), activation='relu'))\n",
        "model.add(layers.MaxPooling2D((2,2)))\n",
        "model.add(layers.Dropout(0.25))\n",
        "model.add(layers.Flatten())\n",
        "model.add(layers.Dense(512, activation='relu'))\n",
        "model.add(layers.Dropout(0.5))\n",
        "model.add(layers.Dense(num_classes, activation='softmax')) \n",
        "model.compile(optimizer='nadam',loss='categorical_crossentropy',metrics=['acc'])\n",
        "\n"
      ],
      "execution_count": 91,
      "outputs": []
    },
    {
      "cell_type": "code",
      "metadata": {
        "id": "uNK8PT6ydwpF",
        "outputId": "311177c2-2572-472d-ac34-2da0ec9d0c6e",
        "colab": {
          "base_uri": "https://localhost:8080/"
        }
      },
      "source": [
        "model.summary()"
      ],
      "execution_count": 92,
      "outputs": [
        {
          "output_type": "stream",
          "text": [
            "Model: \"sequential_29\"\n",
            "_________________________________________________________________\n",
            "Layer (type)                 Output Shape              Param #   \n",
            "=================================================================\n",
            "conv2d_28 (Conv2D)           (None, 26, 26, 32)        320       \n",
            "_________________________________________________________________\n",
            "max_pooling2d_28 (MaxPooling (None, 13, 13, 32)        0         \n",
            "_________________________________________________________________\n",
            "dropout_34 (Dropout)         (None, 13, 13, 32)        0         \n",
            "_________________________________________________________________\n",
            "conv2d_29 (Conv2D)           (None, 11, 11, 64)        18496     \n",
            "_________________________________________________________________\n",
            "max_pooling2d_29 (MaxPooling (None, 5, 5, 64)          0         \n",
            "_________________________________________________________________\n",
            "dropout_35 (Dropout)         (None, 5, 5, 64)          0         \n",
            "_________________________________________________________________\n",
            "flatten_14 (Flatten)         (None, 1600)              0         \n",
            "_________________________________________________________________\n",
            "dense_31 (Dense)             (None, 512)               819712    \n",
            "_________________________________________________________________\n",
            "dropout_36 (Dropout)         (None, 512)               0         \n",
            "_________________________________________________________________\n",
            "dense_32 (Dense)             (None, 10)                5130      \n",
            "=================================================================\n",
            "Total params: 843,658\n",
            "Trainable params: 843,658\n",
            "Non-trainable params: 0\n",
            "_________________________________________________________________\n"
          ],
          "name": "stdout"
        }
      ]
    },
    {
      "cell_type": "code",
      "metadata": {
        "id": "e3lU2MVBeNdC"
      },
      "source": [
        "X_val = X_train[:10000]\n",
        "part_X_train = X_train[10000:]\n",
        "\n",
        "y_val = y_train[:10000]\n",
        "part_y_train = y_train[10000:]"
      ],
      "execution_count": 93,
      "outputs": []
    },
    {
      "cell_type": "code",
      "metadata": {
        "id": "3yLpWgj9eSCt",
        "outputId": "27af2272-e7af-45cf-9be8-cad41e61b386",
        "colab": {
          "base_uri": "https://localhost:8080/"
        }
      },
      "source": [
        "model.fit(part_X_train,part_y_train,epochs =epochs, batch_size =batch_size , validation_data=(X_val, y_val))"
      ],
      "execution_count": 94,
      "outputs": [
        {
          "output_type": "stream",
          "text": [
            "Epoch 1/15\n",
            "782/782 [==============================] - 63s 80ms/step - loss: 0.5726 - acc: 0.7899 - val_loss: 0.3776 - val_acc: 0.8625\n",
            "Epoch 2/15\n",
            "782/782 [==============================] - 62s 79ms/step - loss: 0.3841 - acc: 0.8585 - val_loss: 0.3178 - val_acc: 0.8839\n",
            "Epoch 3/15\n",
            "782/782 [==============================] - 61s 78ms/step - loss: 0.3379 - acc: 0.8759 - val_loss: 0.2791 - val_acc: 0.8952\n",
            "Epoch 4/15\n",
            "782/782 [==============================] - 61s 77ms/step - loss: 0.3106 - acc: 0.8848 - val_loss: 0.3304 - val_acc: 0.8696\n",
            "Epoch 5/15\n",
            "782/782 [==============================] - 61s 78ms/step - loss: 0.2909 - acc: 0.8922 - val_loss: 0.2536 - val_acc: 0.9068\n",
            "Epoch 6/15\n",
            "782/782 [==============================] - 61s 78ms/step - loss: 0.2756 - acc: 0.8979 - val_loss: 0.2452 - val_acc: 0.9097\n",
            "Epoch 7/15\n",
            "782/782 [==============================] - 63s 80ms/step - loss: 0.2627 - acc: 0.9029 - val_loss: 0.2370 - val_acc: 0.9139\n",
            "Epoch 8/15\n",
            "782/782 [==============================] - 61s 78ms/step - loss: 0.2523 - acc: 0.9067 - val_loss: 0.2254 - val_acc: 0.9191\n",
            "Epoch 9/15\n",
            "782/782 [==============================] - 61s 78ms/step - loss: 0.2403 - acc: 0.9104 - val_loss: 0.2379 - val_acc: 0.9147\n",
            "Epoch 10/15\n",
            "782/782 [==============================] - 61s 78ms/step - loss: 0.2344 - acc: 0.9113 - val_loss: 0.2257 - val_acc: 0.9183\n",
            "Epoch 11/15\n",
            "782/782 [==============================] - 61s 77ms/step - loss: 0.2261 - acc: 0.9158 - val_loss: 0.2229 - val_acc: 0.9184\n",
            "Epoch 12/15\n",
            "782/782 [==============================] - 61s 77ms/step - loss: 0.2207 - acc: 0.9173 - val_loss: 0.2385 - val_acc: 0.9087\n",
            "Epoch 13/15\n",
            "782/782 [==============================] - 61s 78ms/step - loss: 0.2108 - acc: 0.9197 - val_loss: 0.2162 - val_acc: 0.9201\n",
            "Epoch 14/15\n",
            "782/782 [==============================] - 61s 77ms/step - loss: 0.2087 - acc: 0.9215 - val_loss: 0.2094 - val_acc: 0.9246\n",
            "Epoch 15/15\n",
            "782/782 [==============================] - 61s 78ms/step - loss: 0.2041 - acc: 0.9233 - val_loss: 0.2040 - val_acc: 0.9252\n"
          ],
          "name": "stdout"
        },
        {
          "output_type": "execute_result",
          "data": {
            "text/plain": [
              "<tensorflow.python.keras.callbacks.History at 0x7fccf187c5c0>"
            ]
          },
          "metadata": {
            "tags": []
          },
          "execution_count": 94
        }
      ]
    },
    {
      "cell_type": "code",
      "metadata": {
        "id": "RF1IO3DIeWOq",
        "outputId": "650b1dfe-cc3d-4f18-86da-7bd6f8e16a7e",
        "colab": {
          "base_uri": "https://localhost:8080/"
        }
      },
      "source": [
        "test_loss, test_acc = model.evaluate(X_test,y_test)"
      ],
      "execution_count": 96,
      "outputs": [
        {
          "output_type": "stream",
          "text": [
            "313/313 [==============================] - 3s 11ms/step - loss: 0.2317 - acc: 0.9160\n"
          ],
          "name": "stdout"
        }
      ]
    },
    {
      "cell_type": "code",
      "metadata": {
        "id": "Lm0x77hcec_-"
      },
      "source": [
        ""
      ],
      "execution_count": null,
      "outputs": []
    }
  ]
}